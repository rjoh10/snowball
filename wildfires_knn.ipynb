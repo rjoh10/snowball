{
 "cells": [
  {
   "cell_type": "code",
   "execution_count": 106,
   "id": "ba7d2dd7-f057-4b29-a5f7-a768ad3cb38f",
   "metadata": {},
   "outputs": [],
   "source": [
    "import pandas as pd\n",
    "import numpy as np\n",
    "from sklearn.model_selection import train_test_split\n",
    "from sklearn.linear_model import LogisticRegression\n",
    "from sklearn.neighbors import KNeighborsRegressor \n",
    "from sklearn.neighbors import KNeighborsClassifier \n",
    "from sklearn.ensemble import HistGradientBoostingClassifier\n",
    "from sklearn.metrics import accuracy_score, classification_report, confusion_matrix\n",
    "from sklearn.metrics import mean_squared_error\n",
    "from sklearn.metrics import accuracy_score"
   ]
  },
  {
   "cell_type": "code",
   "execution_count": 107,
   "id": "6e37dce5-ec5d-4b1a-9e13-c0a19e59c16a",
   "metadata": {},
   "outputs": [],
   "source": [
    "wildfires = pd.read_csv(\"wildfires.csv\")  "
   ]
  },
  {
   "cell_type": "code",
   "execution_count": 108,
   "id": "59acf095-96ed-4f32-867c-0d2fd72ade80",
   "metadata": {},
   "outputs": [],
   "source": [
    "columns_to_drop = [\n",
    "    'State', 'Alarm Date', 'Containment Date', 'Complex Name', 'Fire Number (historical use)',\n",
    "    'Agency', 'Fire ID', 'Unit ID', 'Fire Name', 'Local Incident Number', 'Date',\n",
    "    'Comments', 'IRWIN ID', 'Complex ID'\n",
    "]\n",
    "wildfires.drop(columns=columns_to_drop, inplace=True, errors='ignore')"
   ]
  },
  {
   "cell_type": "code",
   "execution_count": 109,
   "id": "cd9926ec-80e3-4c97-8207-ff22d573ebc2",
   "metadata": {},
   "outputs": [],
   "source": [
    "# Map numeric causes to categorical labels\n",
    "cause_mapping = {\n",
    "    1: 'Lightning', 2: 'Equipment Use', 3: 'Smoking', 4: 'Campfire', 5: 'Debris',\n",
    "    6: 'Railroad', 7: 'Arson', 8: 'Playing with fire', 9: 'Miscellaneous', 10: 'Vehicle Accident',\n",
    "    11: 'Powerline', 12: 'Firefighter Training', 13: 'Non-Firefighter Training',\n",
    "    14: 'Unknown/Unidentified', 15: 'Structure', 16: 'Aircraft', 17: 'Volcanic',\n",
    "    18: 'Escaped Prescribed Burn', 19: 'Illegal Alien Campfire'\n",
    "}\n",
    "wildfires['Cause'] = wildfires['Cause'].map(cause_mapping)"
   ]
  },
  {
   "cell_type": "code",
   "execution_count": 110,
   "id": "521fcadd-7045-4965-8892-db7d0129a968",
   "metadata": {},
   "outputs": [],
   "source": [
    "# Human and Nature Sorting\n",
    "human_causes = [\n",
    "    'Smoking', 'Campfire', 'Equipment Use', 'Playing with fire', 'Arson', 'Railroad',\n",
    "    'Vehicle', 'Powerline', 'Firefighter Training', 'Non-Firefighter Training',\n",
    "    'Structure', 'Aircraft', 'Escaped Prescribed Burn', 'Illegal Alien Campfire'\n",
    "]\n",
    "nature_causes = ['Lightning', 'Volcanic', 'Debris']\n",
    "wildfires['Cause_Category'] = wildfires['Cause'].apply(lambda x: 'Human' if x in human_causes else 'Nature' if x in nature_causes else np.nan)"
   ]
  },
  {
   "cell_type": "code",
   "execution_count": 111,
   "id": "6148f0cf-8563-427f-9619-e552abe6bb25",
   "metadata": {},
   "outputs": [],
   "source": [
    "# Convert 'Year' to integer and filter data for the last 6 years (2018-2023)\n",
    "wildfires['Year'] = pd.to_numeric(wildfires['Year'], errors='coerce')\n",
    "wildfires = wildfires[wildfires['Year'].between(2018, 2023)]\n",
    "\n",
    "# Remove rows with missing values in critical columns (optional)\n",
    "wildfires.dropna(subset=['GIS Calculated Acres', 'Cause_Category'], inplace=True)"
   ]
  },
  {
   "cell_type": "code",
   "execution_count": 112,
   "id": "119ad6c0-c58b-4379-a939-7f803b3f4e3b",
   "metadata": {},
   "outputs": [],
   "source": [
    "# One-hot encoding for 'Cause' and 'Cause_Category' columns\n",
    "wildfires_encoded = pd.get_dummies(wildfires, columns=['Cause', 'Cause_Category'], drop_first=True)"
   ]
  },
  {
   "cell_type": "code",
   "execution_count": 113,
   "id": "31db1fee-d240-44a0-8730-ed5cdb9a0210",
   "metadata": {},
   "outputs": [],
   "source": [
    "# Dependent Variable: binarizing fire size based on a threshold\n",
    "threshold = wildfires['GIS Calculated Acres'].mean()  # Set a threshold to classify fires into 'large' or 'small'\n",
    "wildfires['Fire_Size_Category'] = wildfires['GIS Calculated Acres'].apply(lambda x: 1 if x > threshold else 0) "
   ]
  },
  {
   "cell_type": "code",
   "execution_count": 115,
   "id": "4c4de55f-a6e9-41c0-a873-ef838a2ddd10",
   "metadata": {},
   "outputs": [],
   "source": [
    "conditions = [\n",
    "    wildfires['GIS Calculated Acres'] < threshold / 2,\n",
    "    (wildfires['GIS Calculated Acres'] >= threshold / 2) & (wildfires['GIS Calculated Acres'] <= threshold * 1.5),\n",
    "    wildfires['GIS Calculated Acres'] > threshold\n",
    "]\n",
    "categories = [0,1,2] \n",
    "\n",
    "wildfires['Fire_Size_Category'] = np.select(conditions, categories, default=-1) "
   ]
  },
  {
   "cell_type": "code",
   "execution_count": 116,
   "id": "823a0018-9ec4-4ecf-8184-f20847db54a5",
   "metadata": {},
   "outputs": [],
   "source": [
    "# Feature Selection: using the one-hot encoded 'Cause' and other features as independent variables\n",
    "X = wildfires_encoded.drop(['GIS Calculated Acres', 'Fire_Size_Category'], axis=1, errors='ignore')\n",
    "y = wildfires['Fire_Size_Category'] "
   ]
  },
  {
   "cell_type": "code",
   "execution_count": 122,
   "id": "eb050f33-632d-4369-bc39-fda6cd7c78da",
   "metadata": {},
   "outputs": [
    {
     "data": {
      "text/plain": [
       "Index(['OBJECTID', 'Year', 'Collection Method', 'Management Objective',\n",
       "       'DECADES', 'Shape__Area', 'Shape__Length', 'Cause_Arson',\n",
       "       'Cause_Campfire', 'Cause_Debris', 'Cause_Equipment Use',\n",
       "       'Cause_Escaped Prescribed Burn', 'Cause_Lightning',\n",
       "       'Cause_Playing with fire', 'Cause_Powerline', 'Cause_Railroad',\n",
       "       'Cause_Smoking', 'Cause_Structure', 'Cause_Category_Nature'],\n",
       "      dtype='object')"
      ]
     },
     "execution_count": 122,
     "metadata": {},
     "output_type": "execute_result"
    }
   ],
   "source": [
    "X.columns "
   ]
  },
  {
   "cell_type": "code",
   "execution_count": 123,
   "id": "176beb9e-6749-4503-aaeb-528167df517b",
   "metadata": {},
   "outputs": [],
   "source": [
    "#start of implementing the model"
   ]
  },
  {
   "cell_type": "code",
   "execution_count": 136,
   "id": "6072a7e2-8a72-4dd1-b7ce-a1dc2ec6245b",
   "metadata": {},
   "outputs": [],
   "source": [
    "# Split the data into training and testing sets\n",
    "X_train, X_test, y_train, y_test = train_test_split(X, y, test_size=0.4, random_state=42) "
   ]
  },
  {
   "cell_type": "code",
   "execution_count": 137,
   "id": "15d3ee31-0cb6-4677-92ef-1077f6793d49",
   "metadata": {},
   "outputs": [],
   "source": [
    "# KNN Model (Dropping NaN values) \n",
    "X_train_logistic = X_train.dropna()\n",
    "y_train_logistic = y_train[X_train_logistic.index]  # Ensure y is aligned with the reduced X after dropping NaN rows\n",
    "X_test_logistic = X_test.dropna()\n",
    "y_test_logistic = y_test[X_test_logistic.index] "
   ]
  },
  {
   "cell_type": "code",
   "execution_count": 138,
   "id": "09ea99f3-f80d-4ba3-9bd2-80a51cc1b889",
   "metadata": {},
   "outputs": [
    {
     "name": "stdout",
     "output_type": "stream",
     "text": [
      "Accuracy: 0.99\n"
     ]
    }
   ],
   "source": [
    "k = 7  # You can change this value\n",
    "knn_classifier = KNeighborsClassifier(n_neighbors=k)\n",
    "\n",
    "# Train the model\n",
    "knn_classifier.fit(X_train_logistic, y_train_logistic)\n",
    "\n",
    "# Make predictions\n",
    "y_pred = knn_classifier.predict(X_test_logistic)\n",
    "\n",
    "# Evaluate the model\n",
    "accuracy = accuracy_score(y_test_logistic, y_pred)\n",
    "print(f\"Accuracy: {accuracy:.2f}\") "
   ]
  },
  {
   "cell_type": "code",
   "execution_count": 139,
   "id": "35d07bdc-a93a-4810-bd92-dd330aca2b39",
   "metadata": {},
   "outputs": [],
   "source": [
    "# # Initialize and train the logistic regression model\n",
    "# knn_model = LogisticRegression(max_iter=1000)\n",
    "# knn_model.fit(X_train_logistic, y_train_logistic) "
   ]
  },
  {
   "cell_type": "code",
   "execution_count": 141,
   "id": "ec9d8592-06ca-4d10-8803-a25d82e1c22e",
   "metadata": {},
   "outputs": [
    {
     "name": "stdout",
     "output_type": "stream",
     "text": [
      "Training set class distribution: Fire_Size_Category\n",
      "0    544\n",
      "2     28\n",
      "1     13\n",
      "Name: count, dtype: int64\n",
      "Test set class distribution: Fire_Size_Category\n",
      "0    365\n",
      "2     13\n",
      "1     12\n",
      "Name: count, dtype: int64\n"
     ]
    }
   ],
   "source": [
    "print(\"Training set class distribution:\", y_train_logistic.value_counts())\n",
    "print(\"Test set class distribution:\", y_test_logistic.value_counts())"
   ]
  },
  {
   "cell_type": "code",
   "execution_count": 142,
   "id": "9a66f0bc-e0e4-4c84-8f28-5b1ed689d5c4",
   "metadata": {},
   "outputs": [
    {
     "name": "stdout",
     "output_type": "stream",
     "text": [
      "              precision    recall  f1-score   support\n",
      "\n",
      "           0       1.00      1.00      1.00       365\n",
      "           1       0.92      0.92      0.92        12\n",
      "           2       1.00      0.92      0.96        13\n",
      "\n",
      "    accuracy                           0.99       390\n",
      "   macro avg       0.97      0.95      0.96       390\n",
      "weighted avg       0.99      0.99      0.99       390\n",
      "\n"
     ]
    }
   ],
   "source": [
    "#using other methods of evalutation because accuracy isn't going to be that accurate due to imbalanced data\n",
    "from sklearn.metrics import classification_report\n",
    "\n",
    "print(classification_report(y_test_logistic, y_pred)) "
   ]
  },
  {
   "cell_type": "code",
   "execution_count": 146,
   "id": "7b0ebacd-457f-408b-a785-42b08bca077f",
   "metadata": {},
   "outputs": [
    {
     "name": "stdout",
     "output_type": "stream",
     "text": [
      "Cross-validation F1 scores: [1.         1.         1.         0.94747475 0.8231685 ]\n",
      "Mean cross-validation F1 score: 0.9541286491286491\n"
     ]
    }
   ],
   "source": [
    "# Drop NaNs in the full dataset\n",
    "X_cleaned = X.dropna()\n",
    "y_cleaned = y[X_cleaned.index]  # Align y with the cleaned X \n",
    "\n",
    "#further checking the effeciency of the model using cross val\n",
    "from sklearn.model_selection import cross_val_score\n",
    "\n",
    "scores = cross_val_score(knn_classifier, X_cleaned, y_cleaned, cv=5, scoring='f1_macro')\n",
    "print(\"Cross-validation F1 scores:\", scores)\n",
    "print(\"Mean cross-validation F1 score:\", scores.mean()) "
   ]
  },
  {
   "cell_type": "code",
   "execution_count": 147,
   "id": "5201d218-63f5-4a3a-acbe-2146b4193975",
   "metadata": {},
   "outputs": [],
   "source": [
    "#this is good but we also want to try a range of k values to find the best one"
   ]
  },
  {
   "cell_type": "code",
   "execution_count": 148,
   "id": "997cf87c-4fdd-4cc0-9b84-030a4e60e4df",
   "metadata": {},
   "outputs": [
    {
     "name": "stdout",
     "output_type": "stream",
     "text": [
      "k=1, Mean F1 Score: 0.9819\n",
      "k=2, Mean F1 Score: 0.9819\n",
      "k=3, Mean F1 Score: 0.9819\n",
      "k=4, Mean F1 Score: 0.9604\n",
      "k=5, Mean F1 Score: 0.9725\n",
      "k=6, Mean F1 Score: 0.9436\n",
      "k=7, Mean F1 Score: 0.9541\n",
      "k=8, Mean F1 Score: 0.9361\n",
      "k=9, Mean F1 Score: 0.9436\n",
      "k=10, Mean F1 Score: 0.9048\n",
      "k=11, Mean F1 Score: 0.9048\n",
      "k=12, Mean F1 Score: 0.9048\n",
      "k=13, Mean F1 Score: 0.9048\n",
      "k=14, Mean F1 Score: 0.8943\n",
      "k=15, Mean F1 Score: 0.8943\n",
      "k=16, Mean F1 Score: 0.8867\n",
      "k=17, Mean F1 Score: 0.8867\n",
      "k=18, Mean F1 Score: 0.8793\n",
      "k=19, Mean F1 Score: 0.8793\n",
      "k=20, Mean F1 Score: 0.8793\n"
     ]
    }
   ],
   "source": [
    "k_values = range(1, 21)  # Test values of k from 1 to 20\n",
    "f1_scores = []\n",
    "\n",
    "# Loop through each k value, perform cross-validation, and store the mean F1 score\n",
    "for k in k_values:\n",
    "    knn = KNeighborsClassifier(n_neighbors=k)\n",
    "    # Perform cross-validation and calculate the mean F1-macro score\n",
    "    scores = cross_val_score(knn, X_cleaned, y_cleaned, cv=5, scoring='f1_macro')\n",
    "    f1_scores.append(scores.mean())\n",
    "    print(f\"k={k}, Mean F1 Score: {scores.mean():.4f}\")"
   ]
  },
  {
   "cell_type": "code",
   "execution_count": 152,
   "id": "3e32cf7e-b8c3-44c3-a94b-68e41bb9b595",
   "metadata": {},
   "outputs": [
    {
     "name": "stdout",
     "output_type": "stream",
     "text": [
      "Best K Value: 1\n",
      "Best Score using K Value: 0.9819038873584329\n"
     ]
    }
   ],
   "source": [
    "# Find the best k with the highest mean F1 score\n",
    "best_k = k_values[np.argmax(f1_scores)]\n",
    "best_score = max(f1_scores) \n",
    "print(f\"Best K Value: {best_k}\") \n",
    "print(f\"Best Score using K Value: {best_score}\") "
   ]
  },
  {
   "cell_type": "code",
   "execution_count": 153,
   "id": "00d2b555-373d-43e4-b19f-d6b043dd5397",
   "metadata": {},
   "outputs": [],
   "source": [
    "#as we can see the best K value to use would be 5 "
   ]
  },
  {
   "cell_type": "code",
   "execution_count": 155,
   "id": "67e42dae-41c4-44a6-b256-c10d2479f8b2",
   "metadata": {},
   "outputs": [
    {
     "data": {
      "image/png": "[encoded data removed]",
      "text/plain": [
       "<Figure size 640x480 with 2 Axes>"
      ]
     },
     "metadata": {},
     "output_type": "display_data"
    }
   ],
   "source": [
    "from sklearn.metrics import confusion_matrix, ConfusionMatrixDisplay\n",
    "# Ensure that X_train_logistic and X_test_logistic are C-contiguous arrays\n",
    "X_train_logistic = np.ascontiguousarray(X_train_logistic)\n",
    "X_test_logistic = np.ascontiguousarray(X_test_logistic)\n",
    "\n",
    "# Set the best k value\n",
    "k = 1\n",
    "knn_classifier = KNeighborsClassifier(n_neighbors=k)\n",
    "knn_classifier.fit(X_train_logistic, y_train_logistic)\n",
    "\n",
    "# Make predictions\n",
    "y_pred = knn_classifier.predict(X_test_logistic)\n",
    "\n",
    "# Compute and plot the confusion matrix\n",
    "con_matrix = confusion_matrix(y_test_logistic, y_pred)\n",
    "class_labels = [0, 1, 2]\n",
    "\n",
    "# Plot the confusion matrix with class labels\n",
    "plot = ConfusionMatrixDisplay(confusion_matrix=con_matrix, display_labels=class_labels)\n",
    "plot.plot(cmap='Blues')\n",
    "plt.title(\"Confusion Matrix for KNN Classification (Fire Size Categories)\")\n",
    "plt.show() "
   ]
  },
  {
   "cell_type": "code",
   "execution_count": null,
   "id": "96c07dbc-db80-4e59-b6ff-95fb02115ef9",
   "metadata": {},
   "outputs": [],
   "source": []
  }
 ],
 "metadata": {
  "kernelspec": {
   "display_name": "Python 3 (ipykernel)",
   "language": "python",
   "name": "python3"
  },
  "language_info": {
   "codemirror_mode": {
    "name": "ipython",
    "version": 3
   },
   "file_extension": ".py",
   "mimetype": "text/x-python",
   "name": "python",
   "nbconvert_exporter": "python",
   "pygments_lexer": "ipython3",
   "version": "3.11.7"
  }
 },
 "nbformat": 4,
 "nbformat_minor": 5
}
